{
 "cells": [
  {
   "cell_type": "code",
   "execution_count": 1,
   "id": "99352249",
   "metadata": {},
   "outputs": [
    {
     "name": "stdout",
     "output_type": "stream",
     "text": [
      "0        169416\n",
      "1         94380\n",
      "2        125000\n",
      "3         50000\n",
      "4         50000\n",
      "          ...  \n",
      "34350     32800\n",
      "34351     32350\n",
      "34352     33800\n",
      "34353    263259\n",
      "34354     40344\n",
      "Name: Self-Reported Gross Floor Area (ft²), Length: 34355, dtype: int64\n",
      "0         95\n",
      "1        100\n",
      "2         85\n",
      "3        100\n",
      "4          0\n",
      "        ... \n",
      "34350    100\n",
      "34351    100\n",
      "34352    100\n",
      "34353    100\n",
      "34354     90\n",
      "Name: Occupancy, Length: 34355, dtype: int64\n",
      "       Self-Reported Gross Floor Area (ft²)  Occupancy  \\\n",
      "0                                    169416         95   \n",
      "1                                     94380        100   \n",
      "2                                    125000         85   \n",
      "3                                     50000        100   \n",
      "4                                     50000          0   \n",
      "...                                     ...        ...   \n",
      "34350                                 32800        100   \n",
      "34351                                 32350        100   \n",
      "34352                                 33800        100   \n",
      "34353                                263259        100   \n",
      "34354                                 40344         90   \n",
      "\n",
      "       Natural Gas Use (kBtu)  Fuel Oil 1 Use  Fuel Oil 2 Use  \n",
      "0                   1435754.7             0.0             0.0  \n",
      "1                   2068300.1             0.0             0.0  \n",
      "2                   8245445.1             0.0             0.0  \n",
      "3                   1848519.4             0.0             0.0  \n",
      "4                         0.0             0.0             0.0  \n",
      "...                       ...             ...             ...  \n",
      "34350               3017000.3             0.0             0.0  \n",
      "34351               2969100.0             0.0             0.0  \n",
      "34352               3333200.0             0.0             0.0  \n",
      "34353                394383.3             0.0             0.0  \n",
      "34354                     0.0             0.0             0.0  \n",
      "\n",
      "[34355 rows x 5 columns]\n"
     ]
    }
   ],
   "source": [
    "import numpy as np\n",
    "from sklearn.linear_model import LinearRegression\n",
    "import pandas as pd\n",
    "\n",
    "df = pd.read_excel(\"nyc_benchmarking_disclosure_2017_consumption_data.xlsx\", \"Information and Metrics\", usecols=\"P,S:T,AA,AK,AL,AT,AV,AW,BA:BC\")\n",
    "\n",
    "df1 = df[\"Self-Reported Gross Floor Area (ft²)\"].fillna(0)\n",
    "df2 = df[\"Occupancy\"].fillna(0)\n",
    "df3 = df[\"Natural Gas Use (kBtu)\"].fillna(0)\n",
    "df4 = df[\"Fuel Oil 1 Use\"].fillna(0)\n",
    "df5 = df[\"Fuel Oil 2 Use\"].fillna(0)\n",
    "print(df1)\n",
    "print(df2)\n",
    "\n",
    "frames = [df1, df2, df3, df4, df5]\n",
    "dfx = pd.concat(frames, axis=1)\n",
    "print(dfx)\n",
    "x = np.array(dfx[[\"Self-Reported Gross Floor Area (ft²)\", \"Occupancy\", \"Natural Gas Use (kBtu)\", \"Fuel Oil 1 Use\", \"Fuel Oil 2 Use\"]].dropna())\n",
    "y1 = np.array(df[\"Total GHG Emissions (Metric Tons CO2e)\"].fillna(0)).reshape(-1,1)\n",
    "y2 = np.array(df[\"Electricity Use - Grid Purchase (kWh)\"].fillna(0)).reshape(-1,1)\n"
   ]
  },
  {
   "cell_type": "code",
   "execution_count": 2,
   "id": "8d5ea0bb",
   "metadata": {
    "scrolled": true
   },
   "outputs": [],
   "source": [
    "\n",
    "y1.shape = (34355, 1)\n",
    "y2.shape = (34355, 1)\n"
   ]
  },
  {
   "cell_type": "code",
   "execution_count": 3,
   "id": "0d1ea8ea",
   "metadata": {},
   "outputs": [],
   "source": [
    "reg1 = LinearRegression().fit(x,y1)\n",
    "reg2 = LinearRegression().fit(x,y2)\n"
   ]
  },
  {
   "cell_type": "code",
   "execution_count": 4,
   "id": "b8d3cdf5",
   "metadata": {},
   "outputs": [
    {
     "name": "stdout",
     "output_type": "stream",
     "text": [
      "[[9.4380000e+04 1.0000000e+02 2.0683001e+06 0.0000000e+00 0.0000000e+00]]\n"
     ]
    }
   ],
   "source": [
    "prediction_1 = np.array([94380, 100, 2068300.1, 0, 0]).reshape(1,-1)\n",
    "\n",
    "print(prediction_1)"
   ]
  },
  {
   "cell_type": "code",
   "execution_count": 5,
   "id": "982de87b",
   "metadata": {},
   "outputs": [
    {
     "name": "stdout",
     "output_type": "stream",
     "text": [
      "GHG EMISSIONS: [[16515.49216096]]\n",
      "ELECTRICITY USED: [[767822.71607044]]\n"
     ]
    }
   ],
   "source": [
    "print(\"GHG EMISSIONS:\", reg1.predict(prediction_1))\n",
    "print(\"ELECTRICITY USED:\", reg2.predict(prediction_1))"
   ]
  },
  {
   "cell_type": "code",
   "execution_count": 6,
   "id": "9c50cd92",
   "metadata": {},
   "outputs": [],
   "source": [
    "prediction_2 = np.array([913378, 100, 28433975, 0, 669700.6]).reshape(1,-1)"
   ]
  },
  {
   "cell_type": "code",
   "execution_count": 7,
   "id": "74dded5f",
   "metadata": {},
   "outputs": [
    {
     "name": "stdout",
     "output_type": "stream",
     "text": [
      "GHG EMISSIONS: [[88875.95315308]]\n",
      "ELECTRICITY USED: [[9548729.9961939]]\n"
     ]
    }
   ],
   "source": [
    "print(\"GHG EMISSIONS:\",reg1.predict(prediction_2))\n",
    "print(\"ELECTRICITY USED:\",reg2.predict(prediction_2))"
   ]
  },
  {
   "cell_type": "code",
   "execution_count": 8,
   "id": "0e74d309",
   "metadata": {},
   "outputs": [],
   "source": [
    "prediction_3 = np.array([30870, 95, 364553.3, 0, 1929695.5]).reshape(1,-1)"
   ]
  },
  {
   "cell_type": "code",
   "execution_count": 9,
   "id": "53cb2df0",
   "metadata": {},
   "outputs": [
    {
     "name": "stdout",
     "output_type": "stream",
     "text": [
      "GHG EMISSIONS: [[4382.23471323]]\n",
      "ELECTRICITY USED: [[316192.91624144]]\n"
     ]
    }
   ],
   "source": [
    "print(\"GHG EMISSIONS:\",reg1.predict(prediction_3))\n",
    "print(\"ELECTRICITY USED:\", reg2.predict(prediction_3))"
   ]
  },
  {
   "cell_type": "code",
   "execution_count": null,
   "id": "4e0c873b",
   "metadata": {},
   "outputs": [],
   "source": []
  }
 ],
 "metadata": {
  "kernelspec": {
   "display_name": "Python 3 (ipykernel)",
   "language": "python",
   "name": "python3"
  },
  "language_info": {
   "codemirror_mode": {
    "name": "ipython",
    "version": 3
   },
   "file_extension": ".py",
   "mimetype": "text/x-python",
   "name": "python",
   "nbconvert_exporter": "python",
   "pygments_lexer": "ipython3",
   "version": "3.9.7"
  }
 },
 "nbformat": 4,
 "nbformat_minor": 5
}
